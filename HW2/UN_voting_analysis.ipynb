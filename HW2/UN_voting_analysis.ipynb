{
 "metadata": {
  "name": ""
 },
 "nbformat": 3,
 "nbformat_minor": 0,
 "worksheets": [
  {
   "cells": [
    {
     "cell_type": "code",
     "collapsed": false,
     "input": [
      "import numpy as np\n",
      "\n",
      "countries = np.loadtxt('UN_voting_data.txt',dtype=np.str, usecols=[0])\n",
      "#print countries"
     ],
     "language": "python",
     "metadata": {},
     "outputs": [],
     "prompt_number": 230
    },
    {
     "cell_type": "code",
     "collapsed": false,
     "input": [
      "un_voting_data = np.loadtxt('UN_voting_data.txt',dtype=np.str)\n",
      "A = un_voting_data[:, 1:]\n",
      "A = A.astype(np.int)"
     ],
     "language": "python",
     "metadata": {},
     "outputs": [],
     "prompt_number": 255
    },
    {
     "cell_type": "code",
     "collapsed": false,
     "input": [
      "M = np.dot(A,A.transpose())\n",
      "print \"M = A'A \\nM =\", M\n"
     ],
     "language": "python",
     "metadata": {},
     "outputs": [
      {
       "output_type": "stream",
       "stream": "stdout",
       "text": [
        "M = A'A \n",
        "M = [[3477 1386 2502 ..., 1518 1733  655]\n",
        " [1386 4487 1627 ..., 2732 3381 3233]\n",
        " [2502 1627 4249 ..., 2109 1982  831]\n",
        " ..., \n",
        " [1518 2732 2109 ..., 3971 2322 2151]\n",
        " [1733 3381 1982 ..., 2322 3939 2735]\n",
        " [ 655 3233  831 ..., 2151 2735 3265]]\n"
       ]
      }
     ],
     "prompt_number": 259
    },
    {
     "cell_type": "code",
     "collapsed": false,
     "input": [
      "m = M.min(0)\n",
      "minimums = np.sort(m)[0:10]\n",
      "#print minimums\n",
      "most_opposed = []\n",
      "for h in range(0,len(minimums)):\n",
      "    for i in range(0,len(countries)):\n",
      "        for j in range(0,len(countries)):\n",
      "            if M[i,j]==minimums[h]:\n",
      "                #print M[i,j],i,j\n",
      "                #print countries[i], countries[j]\n",
      "                if h==0:\n",
      "                    h = h+1\n",
      "                    most_opposed.append([countries[i], countries[j]])\n",
      "                elif (most_opposed[h-1][0] != countries[j] and most_opposed[h-1][1]!=countries[i]):\n",
      "                        most_opposed.append([countries[i], countries[j]])\n",
      "                \n",
      "print \"Most opposed countries are \", most_opposed[0][0], \" and \", most_opposed[0][1]\n",
      "print \"The ten most opposed are :\", most_opposed "
     ],
     "language": "python",
     "metadata": {},
     "outputs": [
      {
       "output_type": "stream",
       "stream": "stdout",
       "text": [
        "Most opposed countries are  Belarus  and  United_States_of_America\n",
        "The ten most opposed are : [['Belarus', 'United_States_of_America'], ['Belarus', 'United_States_of_America'], ['Syria', 'United_States_of_America'], ['Cuba', 'United_States_of_America'], ['Algeria', 'United_States_of_America'], ['Viet_Nam', 'United_States_of_America'], ['Libya', 'United_States_of_America'], ['Guinea', 'United_States_of_America'], ['Mongolia', 'United_States_of_America'], ['Mali', 'United_States_of_America']]\n"
       ]
      }
     ],
     "prompt_number": 260
    },
    {
     "cell_type": "code",
     "collapsed": false,
     "input": [
      "n = M.max(0)\n",
      "maximums = np.sort(n)\n",
      "#print maximums\n",
      "most_agreeable = []\n",
      "for h in range(0,10):\n",
      "    for i in range(0,countries.size):\n",
      "        for j in range(0,countries.size):\n",
      "            if i != j:\n",
      "                if M[i,j]==maximums[h]:\n",
      "                    most_agreeable.append([countries[i], countries[j]])\n",
      "                    \n",
      "print \"Most agreeable countries are \", most_agreeable[-1][0], \" and \", most_agreeable[-1][1]"
     ],
     "language": "python",
     "metadata": {},
     "outputs": [
      {
       "output_type": "stream",
       "stream": "stdout",
       "text": [
        "Most agreeable countries are  Belgium  and  Yemen\n"
       ]
      }
     ],
     "prompt_number": 261
    },
    {
     "cell_type": "code",
     "collapsed": false,
     "input": [],
     "language": "python",
     "metadata": {},
     "outputs": []
    }
   ],
   "metadata": {}
  }
 ]
}